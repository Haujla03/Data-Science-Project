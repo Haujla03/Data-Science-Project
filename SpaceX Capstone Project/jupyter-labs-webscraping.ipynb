{
 "cells": [
  {
   "cell_type": "markdown",
   "metadata": {},
   "source": [
    "<p style=\"text-align:center\">\n",
    "    <a href=\"https://skills.network\" target=\"_blank\">\n",
    "    <img src=\"https://cf-courses-data.s3.us.cloud-object-storage.appdomain.cloud/assets/logos/SN_web_lightmode.png\" width=\"200\" alt=\"Skills Network Logo\">\n",
    "    </a>\n",
    "</p>\n"
   ]
  },
  {
   "cell_type": "markdown",
   "metadata": {},
   "source": [
    "# **Space X  Falcon 9 First Stage Landing Prediction**\n"
   ]
  },
  {
   "cell_type": "markdown",
   "metadata": {},
   "source": [
    "## Web scraping Falcon 9 and Falcon Heavy Launches Records from Wikipedia\n"
   ]
  },
  {
   "cell_type": "markdown",
   "metadata": {},
   "source": [
    "Estimated time needed: **40** minutes\n"
   ]
  },
  {
   "cell_type": "markdown",
   "metadata": {},
   "source": [
    "In this lab, you will be performing web scraping to collect Falcon 9 historical launch records from a Wikipedia page titled `List of Falcon 9 and Falcon Heavy launches`\n",
    "\n",
    "https://en.wikipedia.org/wiki/List_of_Falcon_9_and_Falcon_Heavy_launches\n"
   ]
  },
  {
   "cell_type": "markdown",
   "metadata": {},
   "source": [
    "![](https://cf-courses-data.s3.us.cloud-object-storage.appdomain.cloud/IBM-DS0321EN-SkillsNetwork/labs/module_1_L2/images/Falcon9_rocket_family.svg)\n"
   ]
  },
  {
   "cell_type": "markdown",
   "metadata": {},
   "source": [
    "Falcon 9 first stage will land successfully\n"
   ]
  },
  {
   "cell_type": "markdown",
   "metadata": {},
   "source": [
    "![](https://cf-courses-data.s3.us.cloud-object-storage.appdomain.cloud/IBMDeveloperSkillsNetwork-DS0701EN-SkillsNetwork/api/Images/landing_1.gif)\n"
   ]
  },
  {
   "cell_type": "markdown",
   "metadata": {},
   "source": [
    "Several examples of an unsuccessful landing are shown here:\n"
   ]
  },
  {
   "cell_type": "markdown",
   "metadata": {},
   "source": [
    "![](https://cf-courses-data.s3.us.cloud-object-storage.appdomain.cloud/IBMDeveloperSkillsNetwork-DS0701EN-SkillsNetwork/api/Images/crash.gif)\n"
   ]
  },
  {
   "cell_type": "markdown",
   "metadata": {},
   "source": [
    "More specifically, the launch records are stored in a HTML table shown below:\n"
   ]
  },
  {
   "cell_type": "markdown",
   "metadata": {},
   "source": [
    "![](https://cf-courses-data.s3.us.cloud-object-storage.appdomain.cloud/IBM-DS0321EN-SkillsNetwork/labs/module_1_L2/images/falcon9-launches-wiki.png)\n"
   ]
  },
  {
   "cell_type": "markdown",
   "metadata": {},
   "source": [
    "  ## Objectives\n",
    "Web scrap Falcon 9 launch records with `BeautifulSoup`: \n",
    "- Extract a Falcon 9 launch records HTML table from Wikipedia\n",
    "- Parse the table and convert it into a Pandas data frame\n"
   ]
  },
  {
   "cell_type": "markdown",
   "metadata": {},
   "source": [
    "First let's import required packages for this lab\n"
   ]
  },
  {
   "cell_type": "code",
   "execution_count": 1,
   "metadata": {
    "tags": []
   },
   "outputs": [
    {
     "name": "stdout",
     "output_type": "stream",
     "text": [
      "Requirement already satisfied: beautifulsoup4 in /home/jupyterlab/conda/envs/python/lib/python3.7/site-packages (4.11.1)\n",
      "Requirement already satisfied: soupsieve>1.2 in /home/jupyterlab/conda/envs/python/lib/python3.7/site-packages (from beautifulsoup4) (2.3.2.post1)\n",
      "Requirement already satisfied: requests in /home/jupyterlab/conda/envs/python/lib/python3.7/site-packages (2.29.0)\n",
      "Requirement already satisfied: charset-normalizer<4,>=2 in /home/jupyterlab/conda/envs/python/lib/python3.7/site-packages (from requests) (3.1.0)\n",
      "Requirement already satisfied: idna<4,>=2.5 in /home/jupyterlab/conda/envs/python/lib/python3.7/site-packages (from requests) (3.4)\n",
      "Requirement already satisfied: urllib3<1.27,>=1.21.1 in /home/jupyterlab/conda/envs/python/lib/python3.7/site-packages (from requests) (1.26.15)\n",
      "Requirement already satisfied: certifi>=2017.4.17 in /home/jupyterlab/conda/envs/python/lib/python3.7/site-packages (from requests) (2023.5.7)\n"
     ]
    }
   ],
   "source": [
    "!pip3 install beautifulsoup4\n",
    "!pip3 install requests"
   ]
  },
  {
   "cell_type": "code",
   "execution_count": 2,
   "metadata": {
    "tags": []
   },
   "outputs": [],
   "source": [
    "import sys\n",
    "\n",
    "import requests\n",
    "from bs4 import BeautifulSoup\n",
    "import re\n",
    "import unicodedata\n",
    "import pandas as pd"
   ]
  },
  {
   "cell_type": "markdown",
   "metadata": {},
   "source": [
    "and we will provide some helper functions for you to process web scraped HTML table\n"
   ]
  },
  {
   "cell_type": "code",
   "execution_count": 3,
   "metadata": {
    "tags": []
   },
   "outputs": [],
   "source": [
    "def date_time(table_cells):\n",
    "    \"\"\"\n",
    "    This function returns the data and time from the HTML  table cell\n",
    "    Input: the  element of a table data cell extracts extra row\n",
    "    \"\"\"\n",
    "    return [data_time.strip() for data_time in list(table_cells.strings)][0:2]\n",
    "\n",
    "def booster_version(table_cells):\n",
    "    \"\"\"\n",
    "    This function returns the booster version from the HTML  table cell \n",
    "    Input: the  element of a table data cell extracts extra row\n",
    "    \"\"\"\n",
    "    out=''.join([booster_version for i,booster_version in enumerate( table_cells.strings) if i%2==0][0:-1])\n",
    "    return out\n",
    "\n",
    "def landing_status(table_cells):\n",
    "    \"\"\"\n",
    "    This function returns the landing status from the HTML table cell \n",
    "    Input: the  element of a table data cell extracts extra row\n",
    "    \"\"\"\n",
    "    out=[i for i in table_cells.strings][0]\n",
    "    return out\n",
    "\n",
    "\n",
    "def get_mass(table_cells):\n",
    "    mass=unicodedata.normalize(\"NFKD\", table_cells.text).strip()\n",
    "    if mass:\n",
    "        mass.find(\"kg\")\n",
    "        new_mass=mass[0:mass.find(\"kg\")+2]\n",
    "    else:\n",
    "        new_mass=0\n",
    "    return new_mass\n",
    "\n",
    "\n",
    "def extract_column_from_header(row):\n",
    "    \"\"\"\n",
    "    This function returns the landing status from the HTML table cell \n",
    "    Input: the  element of a table data cell extracts extra row\n",
    "    \"\"\"\n",
    "    if (row.br):\n",
    "        row.br.extract()\n",
    "    if row.a:\n",
    "        row.a.extract()\n",
    "    if row.sup:\n",
    "        row.sup.extract()\n",
    "        \n",
    "    colunm_name = ' '.join(row.contents)\n",
    "    \n",
    "    # Filter the digit and empty names\n",
    "    if not(colunm_name.strip().isdigit()):\n",
    "        colunm_name = colunm_name.strip()\n",
    "        return colunm_name    \n"
   ]
  },
  {
   "cell_type": "markdown",
   "metadata": {},
   "source": [
    "To keep the lab tasks consistent, you will be asked to scrape the data from a snapshot of the  `List of Falcon 9 and Falcon Heavy launches` Wikipage updated on\n",
    "`9th June 2021`\n"
   ]
  },
  {
   "cell_type": "code",
   "execution_count": 4,
   "metadata": {
    "tags": []
   },
   "outputs": [],
   "source": [
    "static_url = \"https://en.wikipedia.org/w/index.php?title=List_of_Falcon_9_and_Falcon_Heavy_launches&oldid=1027686922\""
   ]
  },
  {
   "cell_type": "markdown",
   "metadata": {},
   "source": [
    "Next, request the HTML page from the above URL and get a `response` object\n"
   ]
  },
  {
   "cell_type": "markdown",
   "metadata": {},
   "source": [
    "### TASK 1: Request the Falcon9 Launch Wiki page from its URL\n"
   ]
  },
  {
   "cell_type": "markdown",
   "metadata": {},
   "source": [
    "First, let's perform an HTTP GET method to request the Falcon9 Launch HTML page, as an HTTP response.\n"
   ]
  },
  {
   "cell_type": "code",
   "execution_count": 5,
   "metadata": {
    "tags": []
   },
   "outputs": [
    {
     "data": {
      "text/plain": [
       "<Response [200]>"
      ]
     },
     "execution_count": 5,
     "metadata": {},
     "output_type": "execute_result"
    }
   ],
   "source": [
    "# use requests.get() method with the provided static_url\n",
    "# assign the response to a object\n",
    "\n",
    "response = requests.get(static_url)\n",
    "response"
   ]
  },
  {
   "cell_type": "markdown",
   "metadata": {},
   "source": [
    "Create a `BeautifulSoup` object from the HTML `response`\n"
   ]
  },
  {
   "cell_type": "code",
   "execution_count": 6,
   "metadata": {
    "tags": []
   },
   "outputs": [],
   "source": [
    "# Use BeautifulSoup() to create a BeautifulSoup object from a response text content\n",
    "\n",
    "soup = BeautifulSoup(response.text, 'html.parser')"
   ]
  },
  {
   "cell_type": "markdown",
   "metadata": {},
   "source": [
    "Print the page title to verify if the `BeautifulSoup` object was created properly \n"
   ]
  },
  {
   "cell_type": "code",
   "execution_count": 7,
   "metadata": {
    "tags": []
   },
   "outputs": [
    {
     "name": "stdout",
     "output_type": "stream",
     "text": [
      "<title>List of Falcon 9 and Falcon Heavy launches - Wikipedia</title>\n"
     ]
    }
   ],
   "source": [
    "# Use soup.title attribute\n",
    "\n",
    "print(soup.title)"
   ]
  },
  {
   "cell_type": "markdown",
   "metadata": {},
   "source": [
    "### TASK 2: Extract all column/variable names from the HTML table header\n"
   ]
  },
  {
   "cell_type": "markdown",
   "metadata": {},
   "source": [
    "Next, we want to collect all relevant column names from the HTML table header\n"
   ]
  },
  {
   "cell_type": "markdown",
   "metadata": {},
   "source": [
    "Let's try to find all tables on the wiki page first. If you need to refresh your memory about `BeautifulSoup`, please check the external reference link towards the end of this lab\n"
   ]
  },
  {
   "cell_type": "code",
   "execution_count": 11,
   "metadata": {
    "tags": []
   },
   "outputs": [
    {
     "name": "stdout",
     "output_type": "stream",
     "text": [
      "[]\n",
      "[]\n",
      "[<th scope=\"col\">Flight No.\n",
      "</th>, <th scope=\"col\">Date and<br/>time (<a href=\"/wiki/Coordinated_Universal_Time\" title=\"Coordinated Universal Time\">UTC</a>)\n",
      "</th>, <th scope=\"col\"><a href=\"/wiki/List_of_Falcon_9_first-stage_boosters\" title=\"List of Falcon 9 first-stage boosters\">Version,<br/>Booster</a> <sup class=\"reference\" id=\"cite_ref-booster_11-0\"><a href=\"#cite_note-booster-11\"><span class=\"cite-bracket\">[</span>b<span class=\"cite-bracket\">]</span></a></sup>\n",
      "</th>, <th scope=\"col\">Launch site\n",
      "</th>, <th scope=\"col\">Payload<sup class=\"reference\" id=\"cite_ref-Dragon_12-0\"><a href=\"#cite_note-Dragon-12\"><span class=\"cite-bracket\">[</span>c<span class=\"cite-bracket\">]</span></a></sup>\n",
      "</th>, <th scope=\"col\">Payload mass\n",
      "</th>, <th scope=\"col\">Orbit\n",
      "</th>, <th scope=\"col\">Customer\n",
      "</th>, <th scope=\"col\">Launch<br/>outcome\n",
      "</th>, <th scope=\"col\"><a href=\"/wiki/Falcon_9_first-stage_landing_tests\" title=\"Falcon 9 first-stage landing tests\">Booster<br/>landing</a>\n",
      "</th>, <th rowspan=\"2\" scope=\"row\" style=\"text-align:center;\">1\n",
      "</th>, <th rowspan=\"2\" scope=\"row\" style=\"text-align:center;\">2\n",
      "</th>, <th rowspan=\"2\" scope=\"row\" style=\"text-align:center;\">3\n",
      "</th>, <th rowspan=\"3\" scope=\"row\" style=\"text-align:center;\">4\n",
      "</th>, <th rowspan=\"2\" scope=\"row\" style=\"text-align:center;\">5\n",
      "</th>, <th rowspan=\"2\" scope=\"row\" style=\"text-align:center;\">6\n",
      "</th>, <th rowspan=\"2\" scope=\"row\" style=\"text-align:center;\">7\n",
      "</th>]\n",
      "[<th scope=\"col\">Flight No.\n",
      "</th>, <th scope=\"col\">Date and<br/>time (<a href=\"/wiki/Coordinated_Universal_Time\" title=\"Coordinated Universal Time\">UTC</a>)\n",
      "</th>, <th scope=\"col\"><a href=\"/wiki/List_of_Falcon_9_first-stage_boosters\" title=\"List of Falcon 9 first-stage boosters\">Version,<br/>Booster</a><sup class=\"reference\" id=\"cite_ref-booster_11-1\"><a href=\"#cite_note-booster-11\"><span class=\"cite-bracket\">[</span>b<span class=\"cite-bracket\">]</span></a></sup>\n",
      "</th>, <th scope=\"col\">Launch site\n",
      "</th>, <th scope=\"col\">Payload<sup class=\"reference\" id=\"cite_ref-Dragon_12-1\"><a href=\"#cite_note-Dragon-12\"><span class=\"cite-bracket\">[</span>c<span class=\"cite-bracket\">]</span></a></sup>\n",
      "</th>, <th scope=\"col\">Payload mass\n",
      "</th>, <th scope=\"col\">Orbit\n",
      "</th>, <th scope=\"col\">Customer\n",
      "</th>, <th scope=\"col\">Launch<br/>outcome\n",
      "</th>, <th scope=\"col\"><a href=\"/wiki/Falcon_9_first-stage_landing_tests\" title=\"Falcon 9 first-stage landing tests\">Booster<br/>landing</a>\n",
      "</th>, <th rowspan=\"2\" scope=\"row\" style=\"text-align:center;\">8\n",
      "</th>, <th rowspan=\"2\" scope=\"row\" style=\"text-align:center;\">9\n",
      "</th>, <th rowspan=\"2\" scope=\"row\" style=\"text-align:center;\">10\n",
      "</th>, <th rowspan=\"2\" scope=\"row\" style=\"text-align:center;\">11\n",
      "</th>, <th rowspan=\"2\" scope=\"row\" style=\"text-align:center;\">12\n",
      "</th>, <th rowspan=\"2\" scope=\"row\" style=\"text-align:center;\">13\n",
      "</th>]\n",
      "[<th scope=\"col\">Flight No.\n",
      "</th>, <th scope=\"col\">Date and<br/>time (<a href=\"/wiki/Coordinated_Universal_Time\" title=\"Coordinated Universal Time\">UTC</a>)\n",
      "</th>, <th scope=\"col\"><a href=\"/wiki/List_of_Falcon_9_first-stage_boosters\" title=\"List of Falcon 9 first-stage boosters\">Version,<br/>Booster</a><sup class=\"reference\" id=\"cite_ref-booster_11-2\"><a href=\"#cite_note-booster-11\"><span class=\"cite-bracket\">[</span>b<span class=\"cite-bracket\">]</span></a></sup>\n",
      "</th>, <th scope=\"col\">Launch site\n",
      "</th>, <th scope=\"col\">Payload<sup class=\"reference\" id=\"cite_ref-Dragon_12-2\"><a href=\"#cite_note-Dragon-12\"><span class=\"cite-bracket\">[</span>c<span class=\"cite-bracket\">]</span></a></sup>\n",
      "</th>, <th scope=\"col\">Payload mass\n",
      "</th>, <th scope=\"col\">Orbit\n",
      "</th>, <th scope=\"col\">Customer\n",
      "</th>, <th scope=\"col\">Launch<br/>outcome\n",
      "</th>, <th scope=\"col\"><a href=\"/wiki/Falcon_9_first-stage_landing_tests\" title=\"Falcon 9 first-stage landing tests\">Booster<br/>landing</a>\n",
      "</th>, <th rowspan=\"2\" scope=\"row\" style=\"text-align:center;\">14\n",
      "</th>, <th rowspan=\"2\" scope=\"row\" style=\"text-align:center;\">15\n",
      "</th>, <th rowspan=\"2\" scope=\"row\" style=\"text-align:center;\">16\n",
      "</th>, <th rowspan=\"2\" scope=\"row\" style=\"text-align:center;\">17\n",
      "</th>, <th rowspan=\"2\" scope=\"row\" style=\"text-align:center;\">18\n",
      "</th>, <th rowspan=\"2\" scope=\"row\" style=\"text-align:center;\">19\n",
      "</th>, <th rowspan=\"2\" scope=\"row\" style=\"text-align:center;\">20\n",
      "</th>]\n",
      "[<th scope=\"col\">Flight No.\n",
      "</th>, <th scope=\"col\">Date and<br/>time (<a href=\"/wiki/Coordinated_Universal_Time\" title=\"Coordinated Universal Time\">UTC</a>)\n",
      "</th>, <th scope=\"col\"><a href=\"/wiki/List_of_Falcon_9_first-stage_boosters\" title=\"List of Falcon 9 first-stage boosters\">Version,<br/>Booster</a><sup class=\"reference\" id=\"cite_ref-booster_11-3\"><a href=\"#cite_note-booster-11\"><span class=\"cite-bracket\">[</span>b<span class=\"cite-bracket\">]</span></a></sup>\n",
      "</th>, <th scope=\"col\">Launch site\n",
      "</th>, <th scope=\"col\">Payload<sup class=\"reference\" id=\"cite_ref-Dragon_12-3\"><a href=\"#cite_note-Dragon-12\"><span class=\"cite-bracket\">[</span>c<span class=\"cite-bracket\">]</span></a></sup>\n",
      "</th>, <th scope=\"col\">Payload mass\n",
      "</th>, <th scope=\"col\">Orbit\n",
      "</th>, <th scope=\"col\">Customer\n",
      "</th>, <th scope=\"col\">Launch<br/>outcome\n",
      "</th>, <th scope=\"col\"><a href=\"/wiki/Falcon_9_first-stage_landing_tests\" title=\"Falcon 9 first-stage landing tests\">Booster<br/>landing</a>\n",
      "</th>, <th rowspan=\"2\" scope=\"row\" style=\"text-align:center;\">21\n",
      "</th>, <th rowspan=\"2\" scope=\"row\" style=\"text-align:center;\">22\n",
      "</th>, <th rowspan=\"2\" scope=\"row\" style=\"text-align:center;\">23\n",
      "</th>, <th rowspan=\"2\" scope=\"row\" style=\"text-align:center;\">24\n",
      "</th>, <th rowspan=\"2\" scope=\"row\" style=\"text-align:center;\">25\n",
      "</th>, <th rowspan=\"2\" scope=\"row\" style=\"text-align:center;\">26\n",
      "</th>, <th rowspan=\"2\" scope=\"row\" style=\"text-align:center;\">27\n",
      "</th>, <th rowspan=\"2\" scope=\"row\" style=\"text-align:center;\">28\n",
      "</th>, <th rowspan=\"2\" scope=\"row\" style=\"text-align:center;\">N/A <sup class=\"reference\" id=\"cite_ref-152\"><a href=\"#cite_note-152\"><span class=\"cite-bracket\">[</span>e<span class=\"cite-bracket\">]</span></a></sup>\n",
      "</th>]\n",
      "[<th scope=\"col\">Flight No.\n",
      "</th>, <th scope=\"col\">Date and<br/>time (<a href=\"/wiki/Coordinated_Universal_Time\" title=\"Coordinated Universal Time\">UTC</a>)\n",
      "</th>, <th scope=\"col\"><a href=\"/wiki/List_of_Falcon_9_first-stage_boosters\" title=\"List of Falcon 9 first-stage boosters\">Version,<br/>Booster</a><sup class=\"reference\" id=\"cite_ref-booster_11-4\"><a href=\"#cite_note-booster-11\"><span class=\"cite-bracket\">[</span>b<span class=\"cite-bracket\">]</span></a></sup>\n",
      "</th>, <th scope=\"col\">Launch site\n",
      "</th>, <th scope=\"col\">Payload<sup class=\"reference\" id=\"cite_ref-Dragon_12-4\"><a href=\"#cite_note-Dragon-12\"><span class=\"cite-bracket\">[</span>c<span class=\"cite-bracket\">]</span></a></sup>\n",
      "</th>, <th scope=\"col\">Payload mass\n",
      "</th>, <th scope=\"col\">Orbit\n",
      "</th>, <th scope=\"col\">Customer\n",
      "</th>, <th scope=\"col\">Launch<br/>outcome\n",
      "</th>, <th scope=\"col\"><a href=\"/wiki/Falcon_9_first-stage_landing_tests\" title=\"Falcon 9 first-stage landing tests\">Booster<br/>landing</a>\n",
      "</th>, <th rowspan=\"2\" scope=\"row\" style=\"text-align:center;\">29\n",
      "</th>, <th rowspan=\"2\" scope=\"row\" style=\"text-align:center;\">30\n",
      "</th>, <th rowspan=\"2\" scope=\"row\" style=\"text-align:center;\">31\n",
      "</th>, <th rowspan=\"2\" scope=\"row\" style=\"text-align:center;\">32\n",
      "</th>, <th rowspan=\"2\" scope=\"row\" style=\"text-align:center;\">33\n",
      "</th>, <th rowspan=\"2\" scope=\"row\" style=\"text-align:center;\">34\n",
      "</th>, <th rowspan=\"2\" scope=\"row\" style=\"text-align:center;\">35\n",
      "</th>, <th rowspan=\"2\" scope=\"row\" style=\"text-align:center;\">36\n",
      "</th>, <th rowspan=\"2\" scope=\"row\" style=\"text-align:center;\">37\n",
      "</th>, <th rowspan=\"2\" scope=\"row\" style=\"text-align:center;\">38\n",
      "</th>, <th rowspan=\"2\" scope=\"row\" style=\"text-align:center;\">39\n",
      "</th>, <th rowspan=\"2\" scope=\"row\" style=\"text-align:center;\">40\n",
      "</th>, <th rowspan=\"2\" scope=\"row\" style=\"text-align:center;\">41\n",
      "</th>, <th rowspan=\"2\" scope=\"row\" style=\"text-align:center;\">42\n",
      "</th>, <th rowspan=\"2\" scope=\"row\" style=\"text-align:center;\">43\n",
      "</th>, <th rowspan=\"2\" scope=\"row\" style=\"text-align:center;\">44\n",
      "</th>, <th rowspan=\"2\" scope=\"row\" style=\"text-align:center;\">45\n",
      "</th>, <th rowspan=\"2\" scope=\"row\" style=\"text-align:center;\">46\n",
      "</th>]\n",
      "[<th scope=\"col\">Flight No.\n",
      "</th>, <th scope=\"col\">Date and<br/>time (<a href=\"/wiki/Coordinated_Universal_Time\" title=\"Coordinated Universal Time\">UTC</a>)\n",
      "</th>, <th scope=\"col\"><a href=\"/wiki/List_of_Falcon_9_first-stage_boosters\" title=\"List of Falcon 9 first-stage boosters\">Version,<br/>Booster</a><sup class=\"reference\" id=\"cite_ref-booster_11-5\"><a href=\"#cite_note-booster-11\"><span class=\"cite-bracket\">[</span>b<span class=\"cite-bracket\">]</span></a></sup>\n",
      "</th>, <th scope=\"col\">Launch site\n",
      "</th>, <th scope=\"col\">Payload<sup class=\"reference\" id=\"cite_ref-Dragon_12-5\"><a href=\"#cite_note-Dragon-12\"><span class=\"cite-bracket\">[</span>c<span class=\"cite-bracket\">]</span></a></sup>\n",
      "</th>, <th scope=\"col\">Payload mass\n",
      "</th>, <th scope=\"col\">Orbit\n",
      "</th>, <th scope=\"col\">Customer\n",
      "</th>, <th scope=\"col\">Launch<br/>outcome\n",
      "</th>, <th scope=\"col\"><a href=\"/wiki/Falcon_9_first-stage_landing_tests\" title=\"Falcon 9 first-stage landing tests\">Booster<br/>landing</a>\n",
      "</th>, <th rowspan=\"2\" scope=\"row\" style=\"text-align:center;\">47\n",
      "</th>, <th rowspan=\"2\" scope=\"row\" style=\"text-align:center;\">48\n",
      "</th>, <th rowspan=\"4\" scope=\"row\" style=\"text-align:center;\"><a href=\"/wiki/Falcon_Heavy_test_flight\" title=\"Falcon Heavy test flight\">FH 1</a>\n",
      "</th>, <th rowspan=\"2\" scope=\"row\" style=\"text-align:center;\">49\n",
      "</th>, <th rowspan=\"2\" scope=\"row\" style=\"text-align:center;\">50\n",
      "</th>, <th rowspan=\"2\" scope=\"row\" style=\"text-align:center;\">51\n",
      "</th>, <th rowspan=\"2\" scope=\"row\" style=\"text-align:center;\">52\n",
      "</th>, <th rowspan=\"2\" scope=\"row\" style=\"text-align:center;\">53\n",
      "</th>, <th rowspan=\"2\" scope=\"row\" style=\"text-align:center;\">54\n",
      "</th>, <th rowspan=\"2\" scope=\"row\" style=\"text-align:center;\">55\n",
      "</th>, <th rowspan=\"2\" scope=\"row\" style=\"text-align:center;\">56\n",
      "</th>, <th rowspan=\"2\" scope=\"row\" style=\"text-align:center;\">57\n",
      "</th>, <th rowspan=\"2\" scope=\"row\" style=\"text-align:center;\">58\n",
      "</th>, <th rowspan=\"2\" scope=\"row\" style=\"text-align:center;\">59\n",
      "</th>, <th rowspan=\"2\" scope=\"row\" style=\"text-align:center;\">60\n",
      "</th>, <th rowspan=\"2\" scope=\"row\" style=\"text-align:center;\">61\n",
      "</th>, <th rowspan=\"2\" scope=\"row\" style=\"text-align:center;\">62\n",
      "</th>, <th rowspan=\"2\" scope=\"row\" style=\"text-align:center;\">63\n",
      "</th>, <th rowspan=\"2\" scope=\"row\" style=\"text-align:center;\">64\n",
      "</th>, <th rowspan=\"2\" scope=\"row\" style=\"text-align:center;\">65\n",
      "</th>, <th rowspan=\"2\" scope=\"row\" style=\"text-align:center;\">66\n",
      "</th>]\n",
      "[<th scope=\"col\">Flight No.\n",
      "</th>, <th scope=\"col\">Date and<br/>time (<a href=\"/wiki/Coordinated_Universal_Time\" title=\"Coordinated Universal Time\">UTC</a>)\n",
      "</th>, <th scope=\"col\"><a href=\"/wiki/List_of_Falcon_9_first-stage_boosters\" title=\"List of Falcon 9 first-stage boosters\">Version,<br/>Booster</a><sup class=\"reference\" id=\"cite_ref-booster_11-6\"><a href=\"#cite_note-booster-11\"><span class=\"cite-bracket\">[</span>b<span class=\"cite-bracket\">]</span></a></sup>\n",
      "</th>, <th scope=\"col\">Launch<br/>site\n",
      "</th>, <th scope=\"col\">Payload<sup class=\"reference\" id=\"cite_ref-Dragon_12-6\"><a href=\"#cite_note-Dragon-12\"><span class=\"cite-bracket\">[</span>c<span class=\"cite-bracket\">]</span></a></sup>\n",
      "</th>, <th scope=\"col\">Payload mass\n",
      "</th>, <th scope=\"col\">Orbit\n",
      "</th>, <th scope=\"col\">Customer\n",
      "</th>, <th scope=\"col\">Launch<br/>outcome\n",
      "</th>, <th scope=\"col\"><a href=\"/wiki/Falcon_9_first-stage_landing_tests\" title=\"Falcon 9 first-stage landing tests\">Booster<br/>landing</a>\n",
      "</th>, <th rowspan=\"2\" scope=\"row\" style=\"text-align:center;\">67\n",
      "</th>, <th rowspan=\"2\" scope=\"row\" style=\"text-align:center;\">68\n",
      "</th>, <th rowspan=\"2\" scope=\"row\" style=\"text-align:center;\">69\n",
      "</th>, <th rowspan=\"4\" scope=\"row\" style=\"text-align:center;\">FH 2\n",
      "</th>, <th rowspan=\"2\" scope=\"row\" style=\"text-align:center;\">70\n",
      "</th>, <th rowspan=\"2\" scope=\"row\" style=\"text-align:center;\">71\n",
      "</th>, <th rowspan=\"2\" scope=\"row\" style=\"text-align:center;\">72\n",
      "</th>, <th rowspan=\"4\" scope=\"row\" style=\"text-align:center;\">FH 3\n",
      "</th>, <th rowspan=\"2\" scope=\"row\" style=\"text-align:center;\">73\n",
      "</th>, <th rowspan=\"2\" scope=\"row\" style=\"text-align:center;\">74\n",
      "</th>, <th rowspan=\"2\" scope=\"row\" style=\"text-align:center;\">75\n",
      "</th>, <th rowspan=\"2\" scope=\"row\" style=\"text-align:center;\">76\n",
      "</th>, <th rowspan=\"2\" scope=\"row\" style=\"text-align:center;\">77\n",
      "</th>]\n",
      "[<th scope=\"col\">Flight No.\n",
      "</th>, <th scope=\"col\">Date and<br/>time (<a href=\"/wiki/Coordinated_Universal_Time\" title=\"Coordinated Universal Time\">UTC</a>)\n",
      "</th>, <th scope=\"col\"><a href=\"/wiki/List_of_Falcon_9_first-stage_boosters\" title=\"List of Falcon 9 first-stage boosters\">Version,<br/>Booster</a><sup class=\"reference\" id=\"cite_ref-booster_11-7\"><a href=\"#cite_note-booster-11\"><span class=\"cite-bracket\">[</span>b<span class=\"cite-bracket\">]</span></a></sup>\n",
      "</th>, <th scope=\"col\">Launch<br/>site\n",
      "</th>, <th scope=\"col\">Payload<sup class=\"reference\" id=\"cite_ref-Dragon_12-7\"><a href=\"#cite_note-Dragon-12\"><span class=\"cite-bracket\">[</span>c<span class=\"cite-bracket\">]</span></a></sup>\n",
      "</th>, <th scope=\"col\">Payload mass\n",
      "</th>, <th scope=\"col\">Orbit\n",
      "</th>, <th scope=\"col\">Customer\n",
      "</th>, <th scope=\"col\">Launch<br/>outcome\n",
      "</th>, <th scope=\"col\"><a href=\"/wiki/Falcon_9_first-stage_landing_tests\" title=\"Falcon 9 first-stage landing tests\">Booster<br/>landing</a>\n",
      "</th>, <th rowspan=\"2\" scope=\"row\" style=\"text-align:center;\">78\n",
      "</th>, <th rowspan=\"2\" scope=\"row\" style=\"text-align:center;\">79\n",
      "</th>, <th rowspan=\"2\" scope=\"row\" style=\"text-align:center;\">80\n",
      "</th>, <th rowspan=\"2\" scope=\"row\" style=\"text-align:center;\">81\n",
      "</th>, <th rowspan=\"2\" scope=\"row\" style=\"text-align:center;\">82\n",
      "</th>, <th rowspan=\"2\" scope=\"row\" style=\"text-align:center;\">83\n",
      "</th>, <th rowspan=\"2\" scope=\"row\" style=\"text-align:center;\">84\n",
      "</th>, <th rowspan=\"2\" scope=\"row\" style=\"text-align:center;\">85\n",
      "</th>, <th rowspan=\"2\" scope=\"row\" style=\"text-align:center;\">86\n",
      "</th>, <th rowspan=\"2\" scope=\"row\" style=\"text-align:center;\">87\n",
      "</th>, <th rowspan=\"2\" scope=\"row\" style=\"text-align:center;\">88\n",
      "</th>, <th rowspan=\"2\" scope=\"row\" style=\"text-align:center;\">89\n",
      "</th>, <th rowspan=\"2\" scope=\"row\" style=\"text-align:center;\">90\n",
      "</th>, <th rowspan=\"2\" scope=\"row\" style=\"text-align:center;\">91\n",
      "</th>, <th rowspan=\"2\" scope=\"row\" style=\"text-align:center;\">92\n",
      "</th>, <th rowspan=\"2\" scope=\"row\" style=\"text-align:center;\">93\n",
      "</th>, <th rowspan=\"2\" scope=\"row\" style=\"text-align:center;\">94\n",
      "</th>, <th rowspan=\"2\" scope=\"row\" style=\"text-align:center;\">95\n",
      "</th>, <th rowspan=\"2\" scope=\"row\" style=\"text-align:center;\">96\n",
      "</th>, <th rowspan=\"2\" scope=\"row\" style=\"text-align:center;\">97\n",
      "</th>, <th rowspan=\"2\" scope=\"row\" style=\"text-align:center;\">98\n",
      "</th>, <th rowspan=\"2\" scope=\"row\" style=\"text-align:center;\">99\n",
      "</th>, <th rowspan=\"2\" scope=\"row\" style=\"text-align:center;\">100\n",
      "</th>, <th rowspan=\"2\" scope=\"row\" style=\"text-align:center;\">101\n",
      "</th>, <th rowspan=\"2\" scope=\"row\" style=\"text-align:center;\">102\n",
      "</th>, <th rowspan=\"2\" scope=\"row\" style=\"text-align:center;\">103\n",
      "</th>]\n",
      "[<th scope=\"col\">Flight\n",
      "<p>No.\n",
      "</p>\n",
      "</th>, <th scope=\"col\">Date and<br/>time (<a href=\"/wiki/Coordinated_Universal_Time\" title=\"Coordinated Universal Time\">UTC</a>)\n",
      "</th>, <th scope=\"col\"><a href=\"/wiki/List_of_Falcon_9_first-stage_boosters\" title=\"List of Falcon 9 first-stage boosters\">Version,<br/>Booster</a><sup class=\"reference\" id=\"cite_ref-booster_11-8\"><a href=\"#cite_note-booster-11\"><span class=\"cite-bracket\">[</span>b<span class=\"cite-bracket\">]</span></a></sup>\n",
      "</th>, <th scope=\"col\">Launch<br/>site\n",
      "</th>, <th scope=\"col\">Payload<sup class=\"reference\" id=\"cite_ref-Dragon_12-8\"><a href=\"#cite_note-Dragon-12\"><span class=\"cite-bracket\">[</span>c<span class=\"cite-bracket\">]</span></a></sup>\n",
      "</th>, <th scope=\"col\">Payload mass\n",
      "</th>, <th scope=\"col\">Orbit\n",
      "</th>, <th scope=\"col\">Customer\n",
      "</th>, <th scope=\"col\">Launch<br/>outcome\n",
      "</th>, <th scope=\"col\"><a href=\"/wiki/Falcon_9_first-stage_landing_tests\" title=\"Falcon 9 first-stage landing tests\">Booster<br/>landing</a>\n",
      "</th>, <th rowspan=\"2\" scope=\"row\" style=\"text-align:center;\">104\n",
      "</th>, <th rowspan=\"2\" scope=\"row\" style=\"text-align:center;\">105\n",
      "</th>, <th rowspan=\"2\" scope=\"row\" style=\"text-align:center;\">106\n",
      "</th>, <th rowspan=\"2\" scope=\"row\" style=\"text-align:center;\">107\n",
      "</th>, <th rowspan=\"2\" scope=\"row\" style=\"text-align:center;\">108\n",
      "</th>, <th rowspan=\"2\" scope=\"row\" style=\"text-align:center;\">109\n",
      "</th>, <th rowspan=\"2\" scope=\"row\" style=\"text-align:center;\">110\n",
      "</th>, <th rowspan=\"2\" scope=\"row\" style=\"text-align:center;\">111\n",
      "</th>, <th rowspan=\"2\" scope=\"row\" style=\"text-align:center;\">112\n",
      "</th>, <th rowspan=\"2\" scope=\"row\" style=\"text-align:center;\">113\n",
      "</th>, <th rowspan=\"2\" scope=\"row\" style=\"text-align:center;\">114\n",
      "</th>, <th rowspan=\"2\" scope=\"row\" style=\"text-align:center;\">115\n",
      "</th>, <th rowspan=\"2\" scope=\"row\" style=\"text-align:center;\">116\n",
      "</th>, <th rowspan=\"2\" scope=\"row\" style=\"text-align:center;\">117\n",
      "</th>, <th rowspan=\"2\" scope=\"row\" style=\"text-align:center;\">118\n",
      "</th>, <th rowspan=\"2\" scope=\"row\" style=\"text-align:center;\">119\n",
      "</th>, <th rowspan=\"2\" scope=\"row\" style=\"text-align:center;\">120\n",
      "</th>, <th rowspan=\"2\" scope=\"row\" style=\"text-align:center;\">121\n",
      "</th>]\n",
      "[<th scope=\"col\" style=\"width: 10%;\">Date and time (<a href=\"/wiki/Coordinated_Universal_Time\" title=\"Coordinated Universal Time\">UTC</a>)\n",
      "</th>, <th scope=\"col\"><a href=\"/wiki/List_of_Falcon_9_first-stage_boosters\" title=\"List of Falcon 9 first-stage boosters\">Version,<br/>Booster</a><sup class=\"reference\" id=\"cite_ref-booster_11-9\"><a href=\"#cite_note-booster-11\"><span class=\"cite-bracket\">[</span>b<span class=\"cite-bracket\">]</span></a></sup>\n",
      "</th>, <th scope=\"col\">Launch site\n",
      "</th>, <th scope=\"col\">Payload<sup class=\"reference\" id=\"cite_ref-Dragon_12-9\"><a href=\"#cite_note-Dragon-12\"><span class=\"cite-bracket\">[</span>c<span class=\"cite-bracket\">]</span></a></sup>\n",
      "</th>, <th scope=\"col\">Orbit\n",
      "</th>, <th scope=\"col\">Customer\n",
      "</th>]\n",
      "[<th scope=\"col\" style=\"width: 10%;\">Date and time (<a href=\"/wiki/Coordinated_Universal_Time\" title=\"Coordinated Universal Time\">UTC</a>)\n",
      "</th>, <th scope=\"col\"><a href=\"/wiki/List_of_Falcon_9_first-stage_boosters\" title=\"List of Falcon 9 first-stage boosters\">Version,<br/>Booster</a><sup class=\"reference\" id=\"cite_ref-booster_11-10\"><a href=\"#cite_note-booster-11\"><span class=\"cite-bracket\">[</span>b<span class=\"cite-bracket\">]</span></a></sup>\n",
      "</th>, <th scope=\"col\">Launch site\n",
      "</th>, <th scope=\"col\">Payload<sup class=\"reference\" id=\"cite_ref-Dragon_12-10\"><a href=\"#cite_note-Dragon-12\"><span class=\"cite-bracket\">[</span>c<span class=\"cite-bracket\">]</span></a></sup>\n",
      "</th>, <th scope=\"col\">Orbit\n",
      "</th>, <th scope=\"col\">Customer\n",
      "</th>]\n",
      "[<th scope=\"col\" style=\"width: 10%;\">Date and time (<a href=\"/wiki/Coordinated_Universal_Time\" title=\"Coordinated Universal Time\">UTC</a>)\n",
      "</th>, <th scope=\"col\"><a href=\"/wiki/List_of_Falcon_9_first-stage_boosters\" title=\"List of Falcon 9 first-stage boosters\">Version,<br/>Booster</a><sup class=\"reference\" id=\"cite_ref-booster_11-11\"><a href=\"#cite_note-booster-11\"><span class=\"cite-bracket\">[</span>b<span class=\"cite-bracket\">]</span></a></sup>\n",
      "</th>, <th scope=\"col\">Launch site\n",
      "</th>, <th scope=\"col\">Payload<sup class=\"reference\" id=\"cite_ref-Dragon_12-11\"><a href=\"#cite_note-Dragon-12\"><span class=\"cite-bracket\">[</span>c<span class=\"cite-bracket\">]</span></a></sup>\n",
      "</th>, <th scope=\"col\">Orbit\n",
      "</th>, <th scope=\"col\">Customer\n",
      "</th>]\n",
      "[<th scope=\"col\" style=\"width: 10%;\">Date and time (<a href=\"/wiki/Coordinated_Universal_Time\" title=\"Coordinated Universal Time\">UTC</a>)\n",
      "</th>, <th scope=\"col\"><a href=\"/wiki/List_of_Falcon_9_first-stage_boosters\" title=\"List of Falcon 9 first-stage boosters\">Version,<br/>Booster</a><sup class=\"reference\" id=\"cite_ref-booster_11-12\"><a href=\"#cite_note-booster-11\"><span class=\"cite-bracket\">[</span>b<span class=\"cite-bracket\">]</span></a></sup>\n",
      "</th>, <th scope=\"col\">Launch site\n",
      "</th>, <th scope=\"col\">Payload<sup class=\"reference\" id=\"cite_ref-Dragon_12-12\"><a href=\"#cite_note-Dragon-12\"><span class=\"cite-bracket\">[</span>c<span class=\"cite-bracket\">]</span></a></sup>\n",
      "</th>, <th scope=\"col\">Orbit\n",
      "</th>, <th scope=\"col\">Customer\n",
      "</th>]\n",
      "[<th class=\"navbox-title\" colspan=\"2\" scope=\"col\"><link href=\"mw-data:TemplateStyles:r1129693374\" rel=\"mw-deduplicated-inline-style\"/><style data-mw-deduplicate=\"TemplateStyles:r1239400231\">.mw-parser-output .navbar{display:inline;font-size:88%;font-weight:normal}.mw-parser-output .navbar-collapse{float:left;text-align:left}.mw-parser-output .navbar-boxtext{word-spacing:0}.mw-parser-output .navbar ul{display:inline-block;white-space:nowrap;line-height:inherit}.mw-parser-output .navbar-brackets::before{margin-right:-0.125em;content:\"[ \"}.mw-parser-output .navbar-brackets::after{margin-left:-0.125em;content:\" ]\"}.mw-parser-output .navbar li{word-spacing:-0.125em}.mw-parser-output .navbar a>span,.mw-parser-output .navbar a>abbr{text-decoration:inherit}.mw-parser-output .navbar-mini abbr{font-variant:small-caps;border-bottom:none;text-decoration:none;cursor:inherit}.mw-parser-output .navbar-ct-full{font-size:114%;margin:0 7em}.mw-parser-output .navbar-ct-mini{font-size:114%;margin:0 4em}html.skin-theme-clientpref-night .mw-parser-output .navbar li a abbr{color:var(--color-base)!important}@media(prefers-color-scheme:dark){html.skin-theme-clientpref-os .mw-parser-output .navbar li a abbr{color:var(--color-base)!important}}@media print{.mw-parser-output .navbar{display:none!important}}</style><div class=\"navbar plainlinks hlist navbar-mini\"><ul><li class=\"nv-view\"><a href=\"/wiki/Template:SpaceX_missions_and_payloads\" title=\"Template:SpaceX missions and payloads\"><abbr title=\"View this template\">v</abbr></a></li><li class=\"nv-talk\"><a href=\"/wiki/Template_talk:SpaceX_missions_and_payloads\" title=\"Template talk:SpaceX missions and payloads\"><abbr title=\"Discuss this template\">t</abbr></a></li><li class=\"nv-edit\"><a href=\"/wiki/Special:EditPage/Template:SpaceX_missions_and_payloads\" title=\"Special:EditPage/Template:SpaceX missions and payloads\"><abbr title=\"Edit this template\">e</abbr></a></li></ul></div><div id=\"SpaceX_missions_and_payloads\" style=\"font-size:114%;margin:0 4em\">SpaceX missions and payloads</div></th>, <th class=\"navbox-group\" scope=\"row\" style=\"width:1%\"><a href=\"/wiki/SpaceX_launch_vehicles\" title=\"SpaceX launch vehicles\">Launch vehicles</a></th>, <th class=\"navbox-group\" scope=\"row\" style=\"width:1%\"><a href=\"/wiki/Falcon_1#Launch_history\" title=\"Falcon 1\">Falcon 1 missions</a></th>, <th class=\"navbox-group\" scope=\"row\" style=\"width:1%\"><a class=\"mw-selflink selflink\">Falcon 9 missions</a></th>, <th class=\"navbox-group\" scope=\"row\" style=\"width:1%\">Demonstrations</th>, <th class=\"navbox-group\" scope=\"row\" style=\"width:1%\"><a class=\"mw-redirect\" href=\"/wiki/ISS\" title=\"ISS\">ISS</a> logistics</th>, <th class=\"navbox-group\" scope=\"row\" style=\"width:1%\">Crewed</th>, <th class=\"navbox-group\" scope=\"row\" style=\"width:1%\">Commercial<br/>satellites</th>, <th class=\"navbox-group\" scope=\"row\" style=\"width:1%\">Scientific<br/>satellites</th>, <th class=\"navbox-group\" scope=\"row\" style=\"width:1%\">Military<br/>satellites</th>, <th class=\"navbox-group\" scope=\"row\" style=\"width:1%\"><a href=\"/wiki/Starlink\" title=\"Starlink\">Starlink</a></th>, <th class=\"navbox-group\" scope=\"row\" style=\"width:1%\">Rideshares</th>, <th class=\"navbox-group\" scope=\"row\" style=\"width:1%\">Transporter</th>, <th class=\"navbox-group\" scope=\"row\" style=\"width:1%\">Bandwagon</th>, <th class=\"navbox-group\" scope=\"row\" style=\"width:1%\"><a href=\"/wiki/Falcon_Heavy#Scheduled_launches_and_potential_payloads\" title=\"Falcon Heavy\">Falcon Heavy missions</a></th>, <th class=\"navbox-group\" scope=\"row\" style=\"width:1%\"><a href=\"/wiki/List_of_Starship_launches\" title=\"List of Starship launches\"><i>Starship</i> missions</a></th>, <th class=\"navbox-group\" scope=\"row\" style=\"width:1%\">Flight tests</th>, <th class=\"navbox-group\" scope=\"row\" style=\"width:1%\">Crewed</th>, <th class=\"navbox-group\" scope=\"row\" style=\"width:1%\">Commercial<br/>satellites</th>]\n",
      "[<th class=\"navbox-group\" scope=\"row\" style=\"width:1%\">Demonstrations</th>, <th class=\"navbox-group\" scope=\"row\" style=\"width:1%\"><a class=\"mw-redirect\" href=\"/wiki/ISS\" title=\"ISS\">ISS</a> logistics</th>, <th class=\"navbox-group\" scope=\"row\" style=\"width:1%\">Crewed</th>, <th class=\"navbox-group\" scope=\"row\" style=\"width:1%\">Commercial<br/>satellites</th>, <th class=\"navbox-group\" scope=\"row\" style=\"width:1%\">Scientific<br/>satellites</th>, <th class=\"navbox-group\" scope=\"row\" style=\"width:1%\">Military<br/>satellites</th>, <th class=\"navbox-group\" scope=\"row\" style=\"width:1%\"><a href=\"/wiki/Starlink\" title=\"Starlink\">Starlink</a></th>, <th class=\"navbox-group\" scope=\"row\" style=\"width:1%\">Rideshares</th>, <th class=\"navbox-group\" scope=\"row\" style=\"width:1%\">Transporter</th>, <th class=\"navbox-group\" scope=\"row\" style=\"width:1%\">Bandwagon</th>]\n",
      "[<th class=\"navbox-group\" scope=\"row\" style=\"width:1%\">Transporter</th>, <th class=\"navbox-group\" scope=\"row\" style=\"width:1%\">Bandwagon</th>]\n",
      "[<th class=\"navbox-group\" scope=\"row\" style=\"width:1%\">Flight tests</th>, <th class=\"navbox-group\" scope=\"row\" style=\"width:1%\">Crewed</th>, <th class=\"navbox-group\" scope=\"row\" style=\"width:1%\">Commercial<br/>satellites</th>]\n",
      "[<th class=\"navbox-title\" colspan=\"3\" scope=\"col\"><link href=\"mw-data:TemplateStyles:r1129693374\" rel=\"mw-deduplicated-inline-style\"/><link href=\"mw-data:TemplateStyles:r1239400231\" rel=\"mw-deduplicated-inline-style\"/><div class=\"navbar plainlinks hlist navbar-mini\"><ul><li class=\"nv-view\"><a href=\"/wiki/Template:SpaceX\" title=\"Template:SpaceX\"><abbr title=\"View this template\">v</abbr></a></li><li class=\"nv-talk\"><a href=\"/wiki/Template_talk:SpaceX\" title=\"Template talk:SpaceX\"><abbr title=\"Discuss this template\">t</abbr></a></li><li class=\"nv-edit\"><a href=\"/wiki/Special:EditPage/Template:SpaceX\" title=\"Special:EditPage/Template:SpaceX\"><abbr title=\"Edit this template\">e</abbr></a></li></ul></div><div id=\"SpaceX\" style=\"font-size:114%;margin:0 4em\"><a href=\"/wiki/SpaceX\" title=\"SpaceX\">SpaceX</a></div></th>, <th class=\"navbox-group\" scope=\"row\" style=\"width:1%\"><a href=\"/wiki/SpaceX_launch_vehicles\" title=\"SpaceX launch vehicles\">Launch vehicles</a></th>, <th class=\"navbox-group\" scope=\"row\" style=\"width:1%\">Current</th>, <th class=\"navbox-group\" scope=\"row\" style=\"width:1%\">In development</th>, <th class=\"navbox-group\" scope=\"row\" style=\"width:1%\">Retired</th>, <th class=\"navbox-group\" scope=\"row\" style=\"width:1%\">Cancelled</th>, <th class=\"navbox-group\" scope=\"row\" style=\"width:1%\">Spacecraft</th>, <th class=\"navbox-group\" scope=\"row\" style=\"width:1%\">Cargo</th>, <th class=\"navbox-group\" scope=\"row\" style=\"width:1%\">Crewed</th>, <th class=\"navbox-group\" scope=\"row\" style=\"width:1%\">Test vehicles</th>, <th class=\"navbox-group\" scope=\"row\" style=\"width:1%\">Current</th>, <th class=\"navbox-group\" scope=\"row\" style=\"width:1%\">Retired</th>, <th class=\"navbox-group\" scope=\"row\" style=\"width:1%\">Unflown</th>, <th class=\"navbox-group\" scope=\"row\" style=\"width:1%\"><a href=\"/wiki/SpaceX_rocket_engines\" title=\"SpaceX rocket engines\">Rocket engines</a></th>, <th class=\"navbox-group\" scope=\"row\" style=\"width:1%\"><a href=\"/wiki/Template:SpaceX_missions_and_payloads\" title=\"Template:SpaceX missions and payloads\">Lists of missions</a></th>, <th class=\"navbox-group\" scope=\"row\" style=\"width:1%\"><a class=\"mw-redirect\" href=\"/wiki/SpaceX_launch_facilities\" title=\"SpaceX launch facilities\">Launch facilities</a></th>, <th class=\"navbox-group\" scope=\"row\" style=\"width:1%\">Orbital</th>, <th class=\"navbox-group\" scope=\"row\" style=\"width:1%\">Atmospheric</th>, <th class=\"navbox-group\" scope=\"row\" style=\"width:1%\">Landing sites</th>, <th class=\"navbox-group\" scope=\"row\" style=\"width:1%\">Other facilities</th>, <th class=\"navbox-group\" scope=\"row\" style=\"width:1%\">Support</th>, <th class=\"navbox-group\" scope=\"row\" style=\"width:1%\">Contracts</th>, <th class=\"navbox-group\" scope=\"row\" style=\"width:1%\">R&amp;D programs</th>, <th class=\"navbox-group\" scope=\"row\" style=\"width:1%\">Key people</th>, <th class=\"navbox-group\" scope=\"row\" style=\"width:1%\">Related</th>]\n",
      "[<th class=\"navbox-group\" scope=\"row\" style=\"width:1%\">Current</th>, <th class=\"navbox-group\" scope=\"row\" style=\"width:1%\">In development</th>, <th class=\"navbox-group\" scope=\"row\" style=\"width:1%\">Retired</th>, <th class=\"navbox-group\" scope=\"row\" style=\"width:1%\">Cancelled</th>]\n",
      "[<th class=\"navbox-group\" scope=\"row\" style=\"width:1%\">Cargo</th>, <th class=\"navbox-group\" scope=\"row\" style=\"width:1%\">Crewed</th>]\n",
      "[<th class=\"navbox-group\" scope=\"row\" style=\"width:1%\">Current</th>, <th class=\"navbox-group\" scope=\"row\" style=\"width:1%\">Retired</th>, <th class=\"navbox-group\" scope=\"row\" style=\"width:1%\">Unflown</th>]\n",
      "[<th class=\"navbox-group\" scope=\"row\" style=\"width:1%\">Orbital</th>, <th class=\"navbox-group\" scope=\"row\" style=\"width:1%\">Atmospheric</th>]\n",
      "[<th class=\"navbox-title\" colspan=\"2\" scope=\"col\"><link href=\"mw-data:TemplateStyles:r1129693374\" rel=\"mw-deduplicated-inline-style\"/><link href=\"mw-data:TemplateStyles:r1239400231\" rel=\"mw-deduplicated-inline-style\"/><div class=\"navbar plainlinks hlist navbar-mini\"><ul><li class=\"nv-view\"><a href=\"/wiki/Template:Spaceflight_lists_and_timelines\" title=\"Template:Spaceflight lists and timelines\"><abbr title=\"View this template\">v</abbr></a></li><li class=\"nv-talk\"><a href=\"/wiki/Template_talk:Spaceflight_lists_and_timelines\" title=\"Template talk:Spaceflight lists and timelines\"><abbr title=\"Discuss this template\">t</abbr></a></li><li class=\"nv-edit\"><a href=\"/wiki/Special:EditPage/Template:Spaceflight_lists_and_timelines\" title=\"Special:EditPage/Template:Spaceflight lists and timelines\"><abbr title=\"Edit this template\">e</abbr></a></li></ul></div><div id=\"Spaceflight_lists_and_timelines\" style=\"font-size:114%;margin:0 4em\"><a href=\"/wiki/Spaceflight\" title=\"Spaceflight\">Spaceflight</a> lists and timelines</div></th>, <th class=\"navbox-group\" scope=\"row\" style=\"width:1%\">General</th>, <th class=\"navbox-group\" scope=\"row\" style=\"width:1%\"><a href=\"/wiki/Human_spaceflight\" title=\"Human spaceflight\">Human spaceflight</a></th>, <th class=\"navbox-group\" scope=\"row\" style=\"width:1%\">General</th>, <th class=\"navbox-group\" scope=\"row\" style=\"width:1%\"><a href=\"/wiki/Salyut_programme\" title=\"Salyut programme\">Salyut</a></th>, <th class=\"navbox-group\" scope=\"row\" style=\"width:1%\"><i><a href=\"/wiki/Mir\" title=\"Mir\">Mir</a></i></th>, <th class=\"navbox-group\" scope=\"row\" style=\"width:1%\"><a href=\"/wiki/International_Space_Station\" title=\"International Space Station\">ISS</a></th>, <th class=\"navbox-group\" scope=\"row\" style=\"width:1%\"><a href=\"/wiki/Tiangong_space_station\" title=\"Tiangong space station\">Tiangong</a></th>, <th class=\"navbox-group\" scope=\"row\" style=\"width:1%\"><a href=\"/wiki/Space_Shuttle\" title=\"Space Shuttle\">Shuttle</a></th>, <th class=\"navbox-group\" scope=\"row\" style=\"width:1%\">People</th>, <th class=\"navbox-group\" scope=\"row\" style=\"width:1%\"><a href=\"/wiki/Extravehicular_activity\" title=\"Extravehicular activity\">EVA</a></th>, <th class=\"navbox-group\" scope=\"row\" style=\"width:1%\"><a href=\"/wiki/Discovery_and_exploration_of_the_Solar_System\" title=\"Discovery and exploration of the Solar System\">Solar System<br/>exploration</a></th>, <th class=\"navbox-group\" scope=\"row\" style=\"width:1%\"><a href=\"/wiki/Geocentric_orbit\" title=\"Geocentric orbit\">Earth-orbiting<br/>satellites</a></th>, <th class=\"navbox-group\" scope=\"row\" style=\"width:1%\">Vehicles</th>, <th class=\"navbox-group\" scope=\"row\" style=\"width:1%\">Launches<br/>by rocket type</th>, <th class=\"navbox-group\" scope=\"row\" style=\"width:1%;line-height:1.15em;\">Launches by spaceport</th>, <th class=\"navbox-group\" scope=\"row\" style=\"width:1%\">Agencies, companies<br/>and facilities</th>, <th class=\"navbox-group\" scope=\"row\" style=\"width:1%;line-height:1.15em;\">Other mission lists<br/>and timelines</th>]\n",
      "[<th class=\"navbox-group\" scope=\"row\" style=\"width:1%\">General</th>, <th class=\"navbox-group\" scope=\"row\" style=\"width:1%\"><a href=\"/wiki/Salyut_programme\" title=\"Salyut programme\">Salyut</a></th>, <th class=\"navbox-group\" scope=\"row\" style=\"width:1%\"><i><a href=\"/wiki/Mir\" title=\"Mir\">Mir</a></i></th>, <th class=\"navbox-group\" scope=\"row\" style=\"width:1%\"><a href=\"/wiki/International_Space_Station\" title=\"International Space Station\">ISS</a></th>, <th class=\"navbox-group\" scope=\"row\" style=\"width:1%\"><a href=\"/wiki/Tiangong_space_station\" title=\"Tiangong space station\">Tiangong</a></th>, <th class=\"navbox-group\" scope=\"row\" style=\"width:1%\"><a href=\"/wiki/Space_Shuttle\" title=\"Space Shuttle\">Shuttle</a></th>, <th class=\"navbox-group\" scope=\"row\" style=\"width:1%\">People</th>, <th class=\"navbox-group\" scope=\"row\" style=\"width:1%\"><a href=\"/wiki/Extravehicular_activity\" title=\"Extravehicular activity\">EVA</a></th>]\n"
     ]
    }
   ],
   "source": [
    "# Use the find_all function in the BeautifulSoup object, with element type `table`\n",
    "# Assign the result to a list called `html_tables`\n",
    "\n",
    "soup = BeautifulSoup(response.text, 'html.parser')\n",
    "html_tables = soup.find_all('table')\n",
    "\n",
    "# Iterate through the tables and extract the headers\n",
    "for index, table in enumerate(html_tables):\n",
    "    headers = table.find_all('th')  # Find all header cells (th tags)\n",
    "    print(headers)  # Print the column names"
   ]
  },
  {
   "cell_type": "markdown",
   "metadata": {},
   "source": [
    "Starting from the third table is our target table contains the actual launch records.\n"
   ]
  },
  {
   "cell_type": "code",
   "execution_count": 20,
   "metadata": {
    "tags": []
   },
   "outputs": [
    {
     "name": "stdout",
     "output_type": "stream",
     "text": [
      "<tr>\n",
      "<th scope=\"col\">Flight No.\n",
      "</th>\n",
      "<th scope=\"col\">Date and<br/>time (<a href=\"/wiki/Coordinated_Universal_Time\" title=\"Coordinated Universal Time\">UTC</a>)\n",
      "</th>\n",
      "<th scope=\"col\"><a href=\"/wiki/List_of_Falcon_9_first-stage_boosters\" title=\"List of Falcon 9 first-stage boosters\">Version,<br/>Booster</a> <sup class=\"reference\" id=\"cite_ref-booster_11-0\"><a href=\"#cite_note-booster-11\"><span class=\"cite-bracket\">[</span>b<span class=\"cite-bracket\">]</span></a></sup>\n",
      "</th>\n",
      "<th scope=\"col\">Launch site\n",
      "</th>\n",
      "<th scope=\"col\">Payload<sup class=\"reference\" id=\"cite_ref-Dragon_12-0\"><a href=\"#cite_note-Dragon-12\"><span class=\"cite-bracket\">[</span>c<span class=\"cite-bracket\">]</span></a></sup>\n",
      "</th>\n",
      "<th scope=\"col\">Payload mass\n",
      "</th>\n",
      "<th scope=\"col\">Orbit\n",
      "</th>\n",
      "<th scope=\"col\">Customer\n",
      "</th>\n",
      "<th scope=\"col\">Launch<br/>outcome\n",
      "</th>\n",
      "<th scope=\"col\"><a href=\"/wiki/Falcon_9_first-stage_landing_tests\" title=\"Falcon 9 first-stage landing tests\">Booster<br/>landing</a>\n",
      "</th></tr>\n"
     ]
    }
   ],
   "source": [
    "# Let's print the third table and check its content\n",
    "launch_table = html_tables[2]\n",
    "header_row = launch_table.find('tr')\n",
    "headers2 = launch_table.find_all('th')\n",
    "print(header_row)"
   ]
  },
  {
   "cell_type": "markdown",
   "metadata": {},
   "source": [
    "You should able to see the columns names embedded in the table header elements `<th>` as follows:\n"
   ]
  },
  {
   "cell_type": "markdown",
   "metadata": {},
   "source": [
    "```\n",
    "<tr>\n",
    "<th scope=\"col\">Flight No.\n",
    "</th>\n",
    "<th scope=\"col\">Date and<br/>time (<a href=\"/wiki/Coordinated_Universal_Time\" title=\"Coordinated Universal Time\">UTC</a>)\n",
    "</th>\n",
    "<th scope=\"col\"><a href=\"/wiki/List_of_Falcon_9_first-stage_boosters\" title=\"List of Falcon 9 first-stage boosters\">Version,<br/>Booster</a> <sup class=\"reference\" id=\"cite_ref-booster_11-0\"><a href=\"#cite_note-booster-11\">[b]</a></sup>\n",
    "</th>\n",
    "<th scope=\"col\">Launch site\n",
    "</th>\n",
    "<th scope=\"col\">Payload<sup class=\"reference\" id=\"cite_ref-Dragon_12-0\"><a href=\"#cite_note-Dragon-12\">[c]</a></sup>\n",
    "</th>\n",
    "<th scope=\"col\">Payload mass\n",
    "</th>\n",
    "<th scope=\"col\">Orbit\n",
    "</th>\n",
    "<th scope=\"col\">Customer\n",
    "</th>\n",
    "<th scope=\"col\">Launch<br/>outcome\n",
    "</th>\n",
    "<th scope=\"col\"><a href=\"/wiki/Falcon_9_first-stage_landing_tests\" title=\"Falcon 9 first-stage landing tests\">Booster<br/>landing</a>\n",
    "</th></tr>\n",
    "```\n"
   ]
  },
  {
   "cell_type": "markdown",
   "metadata": {},
   "source": [
    "Next, we just need to iterate through the `<th>` elements and apply the provided `extract_column_from_header()` to extract column name one by one\n"
   ]
  },
  {
   "cell_type": "code",
   "execution_count": 21,
   "metadata": {
    "tags": []
   },
   "outputs": [],
   "source": [
    "column_names = []\n",
    "\n",
    "# Apply find_all() function with `th` element on launch_table\n",
    "headers3 = launch_table.find_all('th')\n",
    "\n",
    "# Provided extract_column_from_header function\n",
    "def extract_column_from_header(row):\n",
    "    if row.br:\n",
    "        row.br.extract()  # Remove <br> tags\n",
    "    if row.a:\n",
    "        row.a.extract()  # Remove <a> tags\n",
    "    if row.sup:\n",
    "        row.sup.extract()  # Remove <sup> tags\n",
    "\n",
    "    # Join the remaining contents and strip whitespace\n",
    "    column_name = ' '.join(row.contents).strip()\n",
    "    # Filter out numeric or empty column names\n",
    "    if not column_name.isdigit():\n",
    "        return column_name.strip()\n",
    "\n",
    "# Iterate each th element and apply the provided extract_column_from_header() to get a column name\n",
    "for header in headers3:\n",
    "    name = extract_column_from_header(header)\n",
    "# Append the Non-empty column name (`if name is not None and len(name) > 0`) into a list called column_names\n",
    "    if name is not None and len(name) > 0:  # Check if the name is valid\n",
    "        column_names.append(name)\n"
   ]
  },
  {
   "cell_type": "markdown",
   "metadata": {},
   "source": [
    "Check the extracted column names\n"
   ]
  },
  {
   "cell_type": "code",
   "execution_count": 22,
   "metadata": {
    "tags": []
   },
   "outputs": [
    {
     "name": "stdout",
     "output_type": "stream",
     "text": [
      "['Flight No.', 'Date and time ( )', 'Launch site', 'Payload', 'Payload mass', 'Orbit', 'Customer', 'Launch outcome']\n"
     ]
    }
   ],
   "source": [
    "print(column_names)"
   ]
  },
  {
   "cell_type": "markdown",
   "metadata": {},
   "source": [
    "## TASK 3: Create a data frame by parsing the launch HTML tables\n"
   ]
  },
  {
   "cell_type": "markdown",
   "metadata": {},
   "source": [
    "We will create an empty dictionary with keys from the extracted column names in the previous task. Later, this dictionary will be converted into a Pandas dataframe\n"
   ]
  },
  {
   "cell_type": "code",
   "execution_count": 23,
   "metadata": {},
   "outputs": [],
   "source": [
    "launch_dict= dict.fromkeys(column_names)\n",
    "\n",
    "# Remove an irrelvant column\n",
    "del launch_dict['Date and time ( )']\n",
    "\n",
    "# Let's initial the launch_dict with each value to be an empty list\n",
    "launch_dict['Flight No.'] = []\n",
    "launch_dict['Launch site'] = []\n",
    "launch_dict['Payload'] = []\n",
    "launch_dict['Payload mass'] = []\n",
    "launch_dict['Orbit'] = []\n",
    "launch_dict['Customer'] = []\n",
    "launch_dict['Launch outcome'] = []\n",
    "# Added some new columns\n",
    "launch_dict['Version Booster']=[]\n",
    "launch_dict['Booster landing']=[]\n",
    "launch_dict['Date']=[]\n",
    "launch_dict['Time']=[]"
   ]
  },
  {
   "cell_type": "markdown",
   "metadata": {},
   "source": [
    "Next, we just need to fill up the `launch_dict` with launch records extracted from table rows.\n"
   ]
  },
  {
   "cell_type": "markdown",
   "metadata": {},
   "source": [
    "Usually, HTML tables in Wiki pages are likely to contain unexpected annotations and other types of noises, such as reference links `B0004.1[8]`, missing values `N/A [e]`, inconsistent formatting, etc.\n"
   ]
  },
  {
   "cell_type": "markdown",
   "metadata": {},
   "source": [
    "To simplify the parsing process, we have provided an incomplete code snippet below to help you to fill up the `launch_dict`. Please complete the following code snippet with TODOs or you can choose to write your own logic to parse all launch tables:\n"
   ]
  },
  {
   "cell_type": "code",
   "execution_count": 27,
   "metadata": {},
   "outputs": [],
   "source": [
    "extracted_row = 0\n",
    "#Extract each table \n",
    "for table_number,table in enumerate(soup.find_all('table',\"wikitable plainrowheaders collapsible\")):\n",
    "   # get table row \n",
    "    for rows in table.find_all(\"tr\"):\n",
    "        #check to see if first table heading is as number corresponding to launch a number \n",
    "        if rows.th:\n",
    "            if rows.th.string:\n",
    "                flight_number=rows.th.string.strip()\n",
    "                flag=flight_number.isdigit()\n",
    "        else:\n",
    "            flag=False\n",
    "        #get table element \n",
    "        row=rows.find_all('td')\n",
    "        #if it is number save cells in a dictonary \n",
    "        if flag:\n",
    "            extracted_row += 1\n",
    "            # Flight Number value\n",
    "            # TODO: Append the flight_number into launch_dict with key `Flight No.\n",
    "            launch_dict['Flight No.'].append(flight_number)\n",
    "            #print(flight_number)\n",
    "            datatimelist=date_time(row[0])\n",
    "            \n",
    "            # Date value\n",
    "            # TODO: Append the date into launch_dict with key `Date`\n",
    "            date = datatimelist[0].strip(',')\n",
    "            launch_dict['Date'].append(date)\n",
    "            #print(date)\n",
    "            \n",
    "            # Time value\n",
    "            # TODO: Append the time into launch_dict with key `Time`\n",
    "            time = datatimelist[1]\n",
    "            launch_dict['Time'].append(time)\n",
    "            #print(time)\n",
    "              \n",
    "            # Booster version\n",
    "            # TODO: Append the bv into launch_dict with key `Version Booster`\n",
    "            bv=booster_version(row[1])\n",
    "            if not(bv):\n",
    "                bv=row[1].a.string\n",
    "            launch_dict['Version Booster'].append(bv)\n",
    "            #print(bv)\n",
    "            \n",
    "            # Launch Site\n",
    "            # TODO: Append the bv into launch_dict with key `Launch Site`\n",
    "            launch_site = row[2].a.string\n",
    "            launch_dict['Launch site'].append(launch_site)\n",
    "            #print(launch_site)\n",
    "            \n",
    "            # Payload\n",
    "            # TODO: Append the payload into launch_dict with key `Payload`\n",
    "            payload = row[3].a.string\n",
    "            launch_dict['Payload'].append(payload)\n",
    "            #print(payload)\n",
    "            \n",
    "            # Payload Mass\n",
    "            # TODO: Append the payload_mass into launch_dict with key `Payload mass`\n",
    "            payload_mass = get_mass(row[4])\n",
    "            launch_dict['Payload mass'].append(payload_mass)\n",
    "            #print(payload)\n",
    "            \n",
    "            # Orbit\n",
    "            # TODO: Append the orbit into launch_dict with key `Orbit`\n",
    "            orbit = row[5].a.string\n",
    "            launch_dict['Orbit'].append(orbit)\n",
    "            #print(orbit)\n",
    "            \n",
    "            # Customer\n",
    "            # TODO: Append the customer into launch_dict with key `Customer`\n",
    "            if row[6].a:\n",
    "                customer = row[6].a.string\n",
    "            else:\n",
    "                customer = row[6].get_text(strip=True)\n",
    "            launch_dict['Customer'].append(customer)\n",
    "            #print(customer)\n",
    "            \n",
    "            # Launch outcome\n",
    "            # TODO: Append the launch_outcome into launch_dict with key `Launch outcome`\n",
    "            launch_outcome = list(row[7].strings)[0]\n",
    "            launch_dict['Launch outcome'].append(launch_outcome)\n",
    "            #print(launch_outcome)\n",
    "            \n",
    "            # Booster landing\n",
    "            # TODO: Append the launch_outcome into launch_dict with key `Booster landing`\n",
    "            booster_landing = landing_status(row[8])\n",
    "            launch_dict['Booster landing'].append(booster_landing)\n",
    "            #print(booster_landing)\n",
    "            "
   ]
  },
  {
   "cell_type": "markdown",
   "metadata": {},
   "source": [
    "After you have fill in the parsed launch record values into `launch_dict`, you can create a dataframe from it.\n"
   ]
  },
  {
   "cell_type": "code",
   "execution_count": 28,
   "metadata": {},
   "outputs": [
    {
     "name": "stdout",
     "output_type": "stream",
     "text": [
      "  Flight No. Launch site                               Payload Payload mass  \\\n",
      "0          1       CCAFS  Dragon Spacecraft Qualification Unit            0   \n",
      "1          2       CCAFS                                Dragon            0   \n",
      "2          3       CCAFS                                Dragon       525 kg   \n",
      "3          4       CCAFS                          SpaceX CRS-1     4,700 kg   \n",
      "4          5       CCAFS                          SpaceX CRS-2     4,877 kg   \n",
      "\n",
      "  Orbit Customer Launch outcome   Version Booster Booster landing  \\\n",
      "0   LEO   SpaceX      Success\\n  F9 v1.07B0003.18         Failure   \n",
      "1   LEO     NASA        Success  F9 v1.07B0004.18         Failure   \n",
      "2   LEO     NASA        Success  F9 v1.07B0005.18    No attempt\\n   \n",
      "3   LEO     NASA      Success\\n  F9 v1.07B0006.18      No attempt   \n",
      "4   LEO     NASA      Success\\n  F9 v1.07B0007.18    No attempt\\n   \n",
      "\n",
      "              Date   Time  \n",
      "0      4 June 2010  18:45  \n",
      "1  8 December 2010  15:43  \n",
      "2      22 May 2012  07:44  \n",
      "3   8 October 2012  00:35  \n",
      "4     1 March 2013  15:10  \n"
     ]
    }
   ],
   "source": [
    "df= pd.DataFrame({ key:pd.Series(value) for key, value in launch_dict.items() })\n",
    "df.to_csv('spacex_web_scraped.csv', index=False)\n",
    "print(df.head())"
   ]
  },
  {
   "cell_type": "markdown",
   "metadata": {},
   "source": [
    "We can now export it to a <b>CSV</b> for the next section, but to make the answers consistent and in case you have difficulties finishing this lab. \n",
    "\n",
    "Following labs will be using a provided dataset to make each lab independent. \n"
   ]
  },
  {
   "cell_type": "markdown",
   "metadata": {},
   "source": [
    "<code>df.to_csv('spacex_web_scraped.csv', index=False)</code>\n"
   ]
  },
  {
   "cell_type": "markdown",
   "metadata": {},
   "source": [
    "## Authors\n"
   ]
  },
  {
   "cell_type": "markdown",
   "metadata": {},
   "source": [
    "<a href=\"https://www.linkedin.com/in/yan-luo-96288783/\">Yan Luo</a>\n"
   ]
  },
  {
   "cell_type": "markdown",
   "metadata": {},
   "source": [
    "<a href=\"https://www.linkedin.com/in/nayefaboutayoun/\">Nayef Abou Tayoun</a>\n"
   ]
  },
  {
   "cell_type": "markdown",
   "metadata": {},
   "source": [
    "<!--\n",
    "## Change Log\n",
    "-->\n"
   ]
  },
  {
   "cell_type": "markdown",
   "metadata": {},
   "source": [
    "<!--\n",
    "| Date (YYYY-MM-DD) | Version | Changed By | Change Description      |\n",
    "| ----------------- | ------- | ---------- | ----------------------- |\n",
    "| 2021-06-09        | 1.0     | Yan Luo    | Tasks updates           |\n",
    "| 2020-11-10        | 1.0     | Nayef      | Created the initial version |\n",
    "-->\n"
   ]
  },
  {
   "cell_type": "markdown",
   "metadata": {},
   "source": [
    "Copyright © 2021 IBM Corporation. All rights reserved.\n"
   ]
  }
 ],
 "metadata": {
  "kernelspec": {
   "display_name": "Python",
   "language": "python",
   "name": "conda-env-python-py"
  },
  "language_info": {
   "codemirror_mode": {
    "name": "ipython",
    "version": 3
   },
   "file_extension": ".py",
   "mimetype": "text/x-python",
   "name": "python",
   "nbconvert_exporter": "python",
   "pygments_lexer": "ipython3",
   "version": "3.7.12"
  },
  "prev_pub_hash": "64f1b0aac408997185c47caba18730e0028b75e7934a0e5bf0ae73c5cb7ba677"
 },
 "nbformat": 4,
 "nbformat_minor": 4
}
