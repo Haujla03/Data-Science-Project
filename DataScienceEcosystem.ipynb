{
 "cells": [
  {
   "cell_type": "markdown",
   "id": "0f2a3e6f-3c4b-4a96-b10a-9a2983290968",
   "metadata": {
    "tags": []
   },
   "source": [
    "# Data Science Tools and Ecosystem"
   ]
  },
  {
   "cell_type": "markdown",
   "id": "3151ac4a-63c6-43f8-a680-93a69d4be6d7",
   "metadata": {},
   "source": [
    "In this notebook, Data Science Tools and Ecosystem are summarized."
   ]
  },
  {
   "cell_type": "markdown",
   "id": "59613a8b-3840-4529-8b6f-c9e689324fb6",
   "metadata": {
    "tags": []
   },
   "source": [
    "**Objectives:**\n",
    "* List popular languages for Data Science.\n",
    "* List popular libraries for Data Science.\n",
    "* List popular tools for Data Science.\n",
    "* Use Markdown Features.\n",
    "* Solve Arithmetic Problems."
   ]
  },
  {
   "cell_type": "markdown",
   "id": "885bacb8-e8f1-4427-a98e-e4e6a04c6d54",
   "metadata": {},
   "source": [
    "Some of the popular languages that Data Scientists use are:\n",
    "1. R\n",
    "2. Python\n",
    "3. Java\n",
    "4. Scala"
   ]
  },
  {
   "cell_type": "markdown",
   "id": "6d93ddfb-1ecb-4aad-9efb-4a6071f2a477",
   "metadata": {},
   "source": [
    "Some of the commonly used libraries used by Data Scientists include:\n",
    "1. Scientific Computing Libraries (Pandas & NumPy).\n",
    "2. Visualization Libraries (Matplotlib & Seaborn).\n",
    "3. Machine Learning and Deep Learning Libraries (Scikit-learn & Keras).\n",
    "4. Other Libraries (BigDL & PyTorch)."
   ]
  },
  {
   "cell_type": "markdown",
   "id": "4f007cb6-4c2c-4e9d-bc06-bcebe03ed024",
   "metadata": {
    "tags": []
   },
   "source": [
    "| Data Science Tools |\n",
    "| ------------------ |\n",
    "|      Jupyter       |\n",
    "|   Apache Zeppelin  |\n",
    "|      Sypder        | "
   ]
  },
  {
   "cell_type": "markdown",
   "id": "8b1a9de9-0e2e-407f-b63e-ce2351d41674",
   "metadata": {},
   "source": [
    "### Below are a few examples of evaluating arithmetic expressions in Python."
   ]
  },
  {
   "cell_type": "code",
   "execution_count": 3,
   "id": "73b97efd-dd0c-42ac-94ca-4ec259f7f1f8",
   "metadata": {
    "tags": []
   },
   "outputs": [
    {
     "data": {
      "text/plain": [
       "17"
      ]
     },
     "execution_count": 3,
     "metadata": {},
     "output_type": "execute_result"
    }
   ],
   "source": [
    "# This a simple arithmetic expression to mutiply then add integers.\n",
    "(3*4)+5"
   ]
  },
  {
   "cell_type": "code",
   "execution_count": 4,
   "id": "aac68406-46c9-49d8-b2f3-e272ff525ce1",
   "metadata": {
    "tags": []
   },
   "outputs": [
    {
     "data": {
      "text/plain": [
       "3.3333333333333335"
      ]
     },
     "execution_count": 4,
     "metadata": {},
     "output_type": "execute_result"
    }
   ],
   "source": [
    "# This will convert 200 minutes to hours by diving by 60.\n",
    "200/60"
   ]
  },
  {
   "cell_type": "markdown",
   "id": "7948f7f7-6b69-4334-ad8d-d3c2f824e6a8",
   "metadata": {
    "tags": []
   },
   "source": [
    "## Author\n",
    "Harbir Aujla"
   ]
  }
 ],
 "metadata": {
  "kernelspec": {
   "display_name": "Python",
   "language": "python",
   "name": "conda-env-python-py"
  },
  "language_info": {
   "codemirror_mode": {
    "name": "ipython",
    "version": 3
   },
   "file_extension": ".py",
   "mimetype": "text/x-python",
   "name": "python",
   "nbconvert_exporter": "python",
   "pygments_lexer": "ipython3",
   "version": "3.7.12"
  }
 },
 "nbformat": 4,
 "nbformat_minor": 5
}
